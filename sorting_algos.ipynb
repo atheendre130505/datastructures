{
  "nbformat": 4,
  "nbformat_minor": 0,
  "metadata": {
    "colab": {
      "provenance": []
    },
    "kernelspec": {
      "name": "python3",
      "display_name": "Python 3"
    },
    "language_info": {
      "name": "python"
    }
  },
  "cells": [
    {
      "cell_type": "code",
      "execution_count": 11,
      "metadata": {
        "colab": {
          "base_uri": "https://localhost:8080/"
        },
        "id": "ckihxebvzhdN",
        "outputId": "cd96f422-f67a-4c67-c65d-e5d42894747c"
      },
      "outputs": [
        {
          "output_type": "execute_result",
          "data": {
            "text/plain": [
              "1"
            ]
          },
          "metadata": {},
          "execution_count": 11
        }
      ],
      "source": [
        "def mini(lst):\n",
        "  smallest=lst[0]\n",
        "  for i in range(1,len(lst)):\n",
        "    if smallest>lst[i]:\n",
        "      smallest=lst[i]\n",
        "  return smallest\n",
        "min([1,2,3,4,5,1])"
      ]
    },
    {
      "cell_type": "code",
      "source": [
        "def selection_sort(lst):\n",
        "  new_lst=[]\n",
        "  for i in range(len(lst)):\n",
        "    new_lst.append(mini(lst))\n",
        "    lst.remove(mini(lst))\n",
        "  return new_lst"
      ],
      "metadata": {
        "id": "5yMf3u4Bz56i"
      },
      "execution_count": 12,
      "outputs": []
    },
    {
      "cell_type": "code",
      "source": [
        "selection_sort([9,38,37,18,4,69,90,9,248,4,8])"
      ],
      "metadata": {
        "colab": {
          "base_uri": "https://localhost:8080/"
        },
        "id": "WBJMqb9b0Wkm",
        "outputId": "52eff533-9abe-45d5-f62b-d90376f54902"
      },
      "execution_count": 13,
      "outputs": [
        {
          "output_type": "execute_result",
          "data": {
            "text/plain": [
              "[4, 4, 8, 9, 9, 18, 37, 38, 69, 90, 248]"
            ]
          },
          "metadata": {},
          "execution_count": 13
        }
      ]
    },
    {
      "cell_type": "code",
      "source": [
        "def quick_sort(lst):\n",
        "  if len(lst)<=1:\n",
        "    return lst\n",
        "  else:\n",
        "    pivot=lst[len(lst)//2]\n",
        "    lst2=[i for i in lst if i<pivot]\n",
        "    middle=[i for i in lst if pivot==i]\n",
        "    lst3=[i for i in lst if i>pivot]\n",
        "    return quick_sort(lst2)+middle+quick_sort(lst3)\n",
        "\n"
      ],
      "metadata": {
        "id": "jRfkfOt-0suU"
      },
      "execution_count": 14,
      "outputs": []
    },
    {
      "cell_type": "code",
      "source": [
        "quick_sort([9,38,37,18,4,69,90,9,248,4,8])"
      ],
      "metadata": {
        "colab": {
          "base_uri": "https://localhost:8080/"
        },
        "id": "UgbBBEmw40hr",
        "outputId": "bf1511fe-097f-40b4-992d-b8b1e4ffe66b"
      },
      "execution_count": 15,
      "outputs": [
        {
          "output_type": "execute_result",
          "data": {
            "text/plain": [
              "[4, 4, 8, 9, 9, 18, 37, 38, 69, 90, 248]"
            ]
          },
          "metadata": {},
          "execution_count": 15
        }
      ]
    },
    {
      "cell_type": "code",
      "source": [],
      "metadata": {
        "id": "d-8QftNm43iW"
      },
      "execution_count": 15,
      "outputs": []
    }
  ]
}