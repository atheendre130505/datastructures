{
  "nbformat": 4,
  "nbformat_minor": 0,
  "metadata": {
    "colab": {
      "provenance": []
    },
    "kernelspec": {
      "name": "python3",
      "display_name": "Python 3"
    },
    "language_info": {
      "name": "python"
    }
  },
  "cells": [
    {
      "cell_type": "code",
      "execution_count": 36,
      "metadata": {
        "id": "CEzXLe_sPndt"
      },
      "outputs": [],
      "source": [
        "class node:\n",
        "    def __init__(self, value):\n",
        "        self.value = value\n",
        "        self.left = None\n",
        "        self.right = None\n"
      ]
    },
    {
      "cell_type": "code",
      "source": [
        "n1=node(10)\n",
        "n2=node(7)\n",
        "n3=node(12)\n",
        "n4=node(6)\n",
        "n5=node(18)\n",
        "n6=node(9)\n",
        "\n",
        "n1.left=n2\n",
        "n1.right=n3\n",
        "n1.left.left=n4\n",
        "n1.left.right=n6\n",
        "n1.right.right=n5"
      ],
      "metadata": {
        "id": "m2HuJt5EPyQn"
      },
      "execution_count": 37,
      "outputs": []
    },
    {
      "cell_type": "code",
      "source": [
        "def inorder(node):#sorting\n",
        "  if node:\n",
        "    inorder(node.left)\n",
        "    print(node.value)\n",
        "    inorder(node.right)\n",
        "inorder(n1)\n"
      ],
      "metadata": {
        "colab": {
          "base_uri": "https://localhost:8080/"
        },
        "id": "hxCGOiW8Q0Uf",
        "outputId": "7e88c258-ae88-4535-db23-2ca3dba51167"
      },
      "execution_count": 38,
      "outputs": [
        {
          "output_type": "stream",
          "name": "stdout",
          "text": [
            "6\n",
            "7\n",
            "9\n",
            "10\n",
            "12\n",
            "18\n"
          ]
        }
      ]
    },
    {
      "cell_type": "code",
      "source": [
        "def preorder(root):\n",
        "  if root is None:\n",
        "    return None\n",
        "  newnode=node(root.value)\n",
        "  x=newnode\n",
        "  print(newnode.value)\n",
        "  newnode.left=preorder(root.left)\n",
        "  newnode.right=preorder(root.right)\n",
        "  return x\n",
        "newnode=preorder(n1)\n"
      ],
      "metadata": {
        "colab": {
          "base_uri": "https://localhost:8080/"
        },
        "id": "alFH7fLyYBGp",
        "outputId": "0639cc7f-323a-4f2d-8e6d-41e4b13812e8"
      },
      "execution_count": 44,
      "outputs": [
        {
          "output_type": "stream",
          "name": "stdout",
          "text": [
            "10\n",
            "7\n",
            "6\n",
            "9\n",
            "12\n",
            "18\n"
          ]
        }
      ]
    },
    {
      "cell_type": "code",
      "source": [
        "def postorder(node):#to delete\n",
        "  if node:\n",
        "    postorder(node.left)\n",
        "    postorder(node.right)\n",
        "    print(f\"Setting node {node.value} to None\")\n",
        "    node.value=None\n",
        "    node.left=None\n",
        "    node.right=None\n",
        "postorder(n1)"
      ],
      "metadata": {
        "id": "xrqEsFM8RPU7",
        "colab": {
          "base_uri": "https://localhost:8080/"
        },
        "outputId": "84ddbba4-913d-48fb-b3a0-75f31397184a"
      },
      "execution_count": 45,
      "outputs": [
        {
          "output_type": "stream",
          "name": "stdout",
          "text": [
            "Setting node 6 to None\n",
            "Setting node 9 to None\n",
            "Setting node 7 to None\n",
            "Setting node 18 to None\n",
            "Setting node 12 to None\n",
            "Setting node 10 to None\n"
          ]
        }
      ]
    },
    {
      "cell_type": "code",
      "source": [
        "inorder(newnode)"
      ],
      "metadata": {
        "colab": {
          "base_uri": "https://localhost:8080/"
        },
        "id": "pRg4tiROVYhT",
        "outputId": "9337f1f6-f9f0-46f8-b5f7-4c768a7b24b3"
      },
      "execution_count": 46,
      "outputs": [
        {
          "output_type": "stream",
          "name": "stdout",
          "text": [
            "6\n",
            "7\n",
            "9\n",
            "10\n",
            "12\n",
            "18\n"
          ]
        }
      ]
    },
    {
      "cell_type": "code",
      "source": [],
      "metadata": {
        "id": "Ejc6qgEJXfhe"
      },
      "execution_count": null,
      "outputs": []
    }
  ]
}
