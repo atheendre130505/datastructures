{
  "cells": [
    {
      "cell_type": "code",
      "execution_count": 49,
      "metadata": {
        "id": "DskjzQTwZHBg"
      },
      "outputs": [],
      "source": [
        "class node:\n",
        "  def __init__(self,value):\n",
        "    self.value=value\n",
        "    self.next=None\n",
        "    self.previous=None"
      ]
    },
    {
      "cell_type": "code",
      "execution_count": 55,
      "metadata": {
        "id": "YAByai_EZ20O"
      },
      "outputs": [],
      "source": [
        "class stack:\n",
        "  def __init__(self):\n",
        "    self.top=None\n",
        "  def push(self,value):\n",
        "    if self.top is None:\n",
        "      self.top=node(value)\n",
        "    else:\n",
        "      x=self.top\n",
        "      self.top=node(value)\n",
        "      self.top.next=x\n",
        "  def pop(self):\n",
        "    if self.top is None:\n",
        "      return \"is empty\"\n",
        "    popped_value=self.top\n",
        "    self.top=popped_value.next\n",
        "    return popped_value.value\n",
        "\n",
        "  def is_empty(self):\n",
        "    if self.top is None:\n",
        "      return True\n",
        "    return False\n",
        "\n",
        "  def peek(self):\n",
        "    if self.top is None:\n",
        "      return \"empty\"\n",
        "    return self.top.value"
      ]
    },
    {
      "cell_type": "code",
      "execution_count": 56,
      "metadata": {
        "id": "yrtaxB-Kc0V5"
      },
      "outputs": [],
      "source": [
        "s1=stack()"
      ]
    },
    {
      "cell_type": "code",
      "execution_count": 57,
      "metadata": {
        "id": "2OQiE56Pc3au"
      },
      "outputs": [],
      "source": [
        "s1.push(1)\n",
        "s1.push(3)\n",
        "s1.push(9)\n",
        "s1.push(4)\n",
        "s1.push(10)"
      ]
    },
    {
      "cell_type": "code",
      "source": [
        "s2=stack()"
      ],
      "metadata": {
        "id": "kfJmC4lfyMXz"
      },
      "execution_count": 58,
      "outputs": []
    },
    {
      "cell_type": "code",
      "execution_count": 59,
      "metadata": {
        "colab": {
          "base_uri": "https://localhost:8080/"
        },
        "id": "yheJoXVec_CW",
        "outputId": "fd8b3325-16c6-442d-81a6-e6604d228256"
      },
      "outputs": [
        {
          "output_type": "execute_result",
          "data": {
            "text/plain": [
              "10"
            ]
          },
          "metadata": {},
          "execution_count": 59
        }
      ],
      "source": [
        "s1.peek()"
      ]
    },
    {
      "cell_type": "code",
      "execution_count": 60,
      "metadata": {
        "id": "RUFRaMtDc_9R"
      },
      "outputs": [],
      "source": [
        "s1.push(2)"
      ]
    },
    {
      "cell_type": "code",
      "execution_count": 61,
      "metadata": {
        "colab": {
          "base_uri": "https://localhost:8080/"
        },
        "id": "t3sadMFwdBiE",
        "outputId": "882723b8-f6e3-4a02-f0b1-2ade8cb149a5"
      },
      "outputs": [
        {
          "output_type": "execute_result",
          "data": {
            "text/plain": [
              "2"
            ]
          },
          "metadata": {},
          "execution_count": 61
        }
      ],
      "source": [
        "s1.peek()"
      ]
    },
    {
      "cell_type": "code",
      "execution_count": 62,
      "metadata": {
        "colab": {
          "base_uri": "https://localhost:8080/"
        },
        "id": "ylXUkaUNdD6n",
        "outputId": "14f720dc-99cc-4a8a-ba93-9ba5756c083d"
      },
      "outputs": [
        {
          "output_type": "execute_result",
          "data": {
            "text/plain": [
              "2"
            ]
          },
          "metadata": {},
          "execution_count": 62
        }
      ],
      "source": [
        "s1.peek()"
      ]
    },
    {
      "cell_type": "code",
      "execution_count": 63,
      "metadata": {
        "id": "EddLS-4WdIDG",
        "colab": {
          "base_uri": "https://localhost:8080/"
        },
        "outputId": "bbd752fd-f610-404a-9c04-e5fe4e144b26"
      },
      "outputs": [
        {
          "output_type": "execute_result",
          "data": {
            "text/plain": [
              "2"
            ]
          },
          "metadata": {},
          "execution_count": 63
        }
      ],
      "source": [
        "s1.pop()"
      ]
    },
    {
      "cell_type": "code",
      "source": [
        "s1.peek()"
      ],
      "metadata": {
        "colab": {
          "base_uri": "https://localhost:8080/"
        },
        "id": "YWbXz3rehArk",
        "outputId": "0c023e58-0546-4ff0-f7a4-d0ec3d63b2a0"
      },
      "execution_count": 64,
      "outputs": [
        {
          "output_type": "execute_result",
          "data": {
            "text/plain": [
              "10"
            ]
          },
          "metadata": {},
          "execution_count": 64
        }
      ]
    },
    {
      "cell_type": "code",
      "source": [
        "def sorting_a_stack(s1):\n",
        "  #first element will go into the s2, while s1.top>s2.top, pop s1.top and push into s2, if s1.top is smaller than s2.top, i will store it in a variable and\n",
        "  #push all the elements from s2 into s1 and then push variable into s1, then repeat untill s1 is empty, then return s2(s2 will be descending)\n",
        "  s2=stack()\n",
        "  while not s1.is_empty():\n",
        "    temp=s1.pop()\n",
        "\n",
        "    while not s2.is_empty() and s2.peek()>temp:\n",
        "      s1.push(s2.pop())\n",
        "    s2.push(temp)\n",
        "\n",
        "\n",
        "\n",
        "  return s2"
      ],
      "metadata": {
        "id": "wIHLN-Xkwenv"
      },
      "execution_count": 69,
      "outputs": []
    },
    {
      "cell_type": "code",
      "source": [
        "s1 = stack()\n",
        "s1.push(3)\n",
        "s1.push(1)\n",
        "s1.push(4)\n",
        "s1.push(2)\n",
        "\n",
        "s1 = sorting_a_stack(s1)\n",
        "s2=stack()\n",
        "# Print sorted stack (s1) in ascending order\n",
        "while not s1.is_empty():\n",
        "  s2.push(s1.pop())\n",
        "\n",
        "while not s2.is_empty():\n",
        "  print(s2.pop())"
      ],
      "metadata": {
        "id": "jVEGyleKyhZL",
        "colab": {
          "base_uri": "https://localhost:8080/"
        },
        "outputId": "df175421-d228-4bed-9332-804bd6f762ac"
      },
      "execution_count": 72,
      "outputs": [
        {
          "output_type": "stream",
          "name": "stdout",
          "text": [
            "1\n",
            "2\n",
            "3\n",
            "4\n"
          ]
        }
      ]
    },
    {
      "cell_type": "code",
      "source": [],
      "metadata": {
        "id": "evxbqNENytWR"
      },
      "execution_count": null,
      "outputs": []
    }
  ],
  "metadata": {
    "colab": {
      "provenance": []
    },
    "kernelspec": {
      "display_name": "Python 3",
      "name": "python3"
    },
    "language_info": {
      "name": "python"
    }
  },
  "nbformat": 4,
  "nbformat_minor": 0
}