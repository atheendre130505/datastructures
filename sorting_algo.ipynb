{
  "nbformat": 4,
  "nbformat_minor": 0,
  "metadata": {
    "colab": {
      "provenance": []
    },
    "kernelspec": {
      "name": "python3",
      "display_name": "Python 3"
    },
    "language_info": {
      "name": "python"
    }
  },
  "cells": [
    {
      "cell_type": "code",
      "execution_count": 4,
      "metadata": {
        "colab": {
          "base_uri": "https://localhost:8080/"
        },
        "id": "ckihxebvzhdN",
        "outputId": "689f1093-e523-40d4-a679-2e2e41d92763"
      },
      "outputs": [
        {
          "output_type": "execute_result",
          "data": {
            "text/plain": [
              "1"
            ]
          },
          "metadata": {},
          "execution_count": 4
        }
      ],
      "source": [
        "def mini(lst):\n",
        "  smallest=lst[0]\n",
        "  for i in range(1,len(lst)):\n",
        "    if smallest>lst[i]:\n",
        "      smallest=lst[i]\n",
        "  return smallest\n",
        "min([1,2,3,4,5,1])"
      ]
    },
    {
      "cell_type": "code",
      "source": [
        "def selection_sort(lst):\n",
        "  new_lst=[]\n",
        "  for i in range(len(lst)):\n",
        "    new_lst.append(mini(lst))\n",
        "    lst.remove(mini(lst))\n",
        "  return new_lst"
      ],
      "metadata": {
        "id": "5yMf3u4Bz56i"
      },
      "execution_count": 5,
      "outputs": []
    },
    {
      "cell_type": "code",
      "source": [
        "selection_sort([9,38,37,18,4,69,90,9,248,4,8])"
      ],
      "metadata": {
        "colab": {
          "base_uri": "https://localhost:8080/"
        },
        "id": "WBJMqb9b0Wkm",
        "outputId": "86ab96cf-5334-4ef6-85db-a860175a5e94"
      },
      "execution_count": 6,
      "outputs": [
        {
          "output_type": "execute_result",
          "data": {
            "text/plain": [
              "[4, 4, 8, 9, 9, 18, 37, 38, 69, 90, 248]"
            ]
          },
          "metadata": {},
          "execution_count": 6
        }
      ]
    },
    {
      "cell_type": "code",
      "source": [
        "def quick_sort(lst):\n",
        "  if len(lst)<=1:\n",
        "    return lst\n",
        "  else:\n",
        "    pivot=lst[0]\n",
        "    lst2=[i for i in lst[1:] if i<pivot]\n",
        "    lst3=[i for i in lst[1:] if i>=pivot]\n",
        "    return quick_sort(lst2)+[pivot]+quick_sort(lst3)\n",
        "\n"
      ],
      "metadata": {
        "id": "jRfkfOt-0suU"
      },
      "execution_count": 2,
      "outputs": []
    },
    {
      "cell_type": "code",
      "source": [
        "quick_sort([9,38,37,18,4,69,90,9,248,4,8])"
      ],
      "metadata": {
        "colab": {
          "base_uri": "https://localhost:8080/"
        },
        "id": "UgbBBEmw40hr",
        "outputId": "f3c74f56-66f0-4484-a80b-b0a94beebb45"
      },
      "execution_count": 3,
      "outputs": [
        {
          "output_type": "execute_result",
          "data": {
            "text/plain": [
              "[4, 4, 8, 9, 9, 18, 37, 38, 69, 90, 248]"
            ]
          },
          "metadata": {},
          "execution_count": 3
        }
      ]
    },
    {
      "cell_type": "code",
      "source": [],
      "metadata": {
        "id": "d-8QftNm43iW"
      },
      "execution_count": null,
      "outputs": []
    }
  ]
}