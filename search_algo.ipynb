{
  "nbformat": 4,
  "nbformat_minor": 0,
  "metadata": {
    "colab": {
      "provenance": []
    },
    "kernelspec": {
      "name": "python3",
      "display_name": "Python 3"
    },
    "language_info": {
      "name": "python"
    }
  },
  "cells": [
    {
      "cell_type": "code",
      "execution_count": 15,
      "metadata": {
        "id": "DK3NFin0QiFo"
      },
      "outputs": [],
      "source": [
        "def linear_search(lst, ele):\n",
        "  for i in lst:\n",
        "    if ele==i:\n",
        "      return i-1\n",
        "  return None\n"
      ]
    },
    {
      "cell_type": "code",
      "source": [
        "def binary_search(lst,ele):\n",
        "  low=0\n",
        "  high=len(lst)-1\n",
        "  while low<=high:\n",
        "    mid=(low+high)//2\n",
        "    if ele==lst[mid]:\n",
        "      return mid\n",
        "    if ele<=lst[mid]:\n",
        "      high=mid-1\n",
        "    else:\n",
        "      low=mid+1\n",
        "  return None\n",
        "\n",
        "\n",
        "\n"
      ],
      "metadata": {
        "id": "uLpHiD-wQuL9"
      },
      "execution_count": 16,
      "outputs": []
    },
    {
      "cell_type": "code",
      "source": [
        "lst=[1,2,3,4,5,6,7]\n",
        "\n",
        "binary_search(lst,3)"
      ],
      "metadata": {
        "colab": {
          "base_uri": "https://localhost:8080/"
        },
        "id": "KmenJHHoSCoX",
        "outputId": "2cbb0cae-94af-4aae-b2a2-d2d993d624b9"
      },
      "execution_count": 17,
      "outputs": [
        {
          "output_type": "execute_result",
          "data": {
            "text/plain": [
              "2"
            ]
          },
          "metadata": {},
          "execution_count": 17
        }
      ]
    },
    {
      "cell_type": "code",
      "source": [
        "linear_search(lst,4)"
      ],
      "metadata": {
        "id": "CM9YZfKGSIBa",
        "colab": {
          "base_uri": "https://localhost:8080/"
        },
        "outputId": "bcc14cce-8647-44e4-8fb3-93a288939619"
      },
      "execution_count": 18,
      "outputs": [
        {
          "output_type": "execute_result",
          "data": {
            "text/plain": [
              "3"
            ]
          },
          "metadata": {},
          "execution_count": 18
        }
      ]
    },
    {
      "cell_type": "code",
      "source": [],
      "metadata": {
        "id": "GdwRDGbxyJUg"
      },
      "execution_count": null,
      "outputs": []
    }
  ]
}